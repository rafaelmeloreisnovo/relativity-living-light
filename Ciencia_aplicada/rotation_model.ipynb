{
 "cells": [
  {
   "cell_type": "markdown",
   "id": "69f9541a",
   "metadata": {},
   "source": [
    "# Curvas de rotação (toy) com halo pseudo-isotérmico\n",
    "\n",
    "Usamos um disco+bojo bariônico simplificado e um halo **pseudo-isotérmico**\n",
    "\\(\\rho = \\rho_0/[1+(r/r_c)^2]\\) como *proxy* para \\(\\rho_{\\text{col}}\\)."
   ]
  },
  {
   "cell_type": "code",
   "execution_count": null,
   "id": "4693fa76",
   "metadata": {},
   "outputs": [],
   "source": [
    "import numpy as np\n",
    "import matplotlib.pyplot as plt\n",
    "\n",
    "G = 4.30091e-6  # kpc (km/s)^2 / Msun\n",
    "M_baryon = 5e10\n",
    "R_d = 3.0\n",
    "r = np.linspace(0.1, 40, 400)\n",
    "\n",
    "M_lum_r = M_baryon * (1 - (1 + r/R_d) * np.exp(-r/R_d))\n",
    "v_lum = np.sqrt(G * M_lum_r / r)\n",
    "\n",
    "rho0_pc = 0.015\n",
    "rho0_kpc = rho0_pc * (1000**3)\n",
    "rc = 5.0\n",
    "M_halo_r = 4 * np.pi * rho0_kpc * rc**3 * (r/rc - np.arctan(r/rc))\n",
    "v_halo = np.sqrt(G * M_halo_r / r)\n",
    "\n",
    "v_tot = np.sqrt(v_lum**2 + v_halo**2)\n",
    "\n",
    "plt.figure(figsize=(7,5))\n",
    "plt.plot(r, v_lum, label=\"Bariônico (disco+bojo)\")\n",
    "plt.plot(r, v_halo, label=\"Colapsado ~ matéria escura (pseudo-isotérmico)\", linestyle=\"--\")\n",
    "plt.plot(r, v_tot, label=\"Total (previsto)\")\n",
    "plt.xlabel(\"r [kpc]\"); plt.ylabel(\"v(r) [km/s]\")\n",
    "plt.title(\"Curvas de rotação: componente colapsado tipo DM\")\n",
    "plt.legend(); plt.grid(True); plt.show()"
   ]
  }
 ],
 "metadata": {},
 "nbformat": 4,
 "nbformat_minor": 5
}
