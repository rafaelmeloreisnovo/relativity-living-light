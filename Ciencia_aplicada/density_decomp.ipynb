{
 "cells": [
  {
   "cell_type": "markdown",
   "id": "f4be44d5",
   "metadata": {},
   "source": [
    "# Decomposição de densidades: **ρ_ext** (DE-like) e **ρ_col** (DM-like)\n",
    "\n",
    "Parametrização mínima:\n",
    "\\[\n",
    "\\rho_{\\text{sup}}(a) = \\rho_0 \\left[ f_{\\text{ext}}\\, a^{-n_{\\text{ext}}} + (1-f_{\\text{ext}})\\, a^{-n_{\\text{col}}} \\right]\n",
    "\\]\n",
    "com \\(n_{\\text{ext}}\\approx 0\\) e \\(n_{\\text{col}}\\approx 3\\) como caso base."
   ]
  },
  {
   "cell_type": "code",
   "execution_count": null,
   "id": "df14f07b",
   "metadata": {},
   "outputs": [],
   "source": [
    "import numpy as np\n",
    "import matplotlib.pyplot as plt\n",
    "\n",
    "z = np.linspace(0, 5, 400)\n",
    "a = 1.0 / (1.0 + z)\n",
    "rho0 = 1.0\n",
    "f_ext = 0.7\n",
    "n_ext = 0.0\n",
    "n_col = 3.0\n",
    "\n",
    "rho_ext = rho0 * f_ext * a**(-n_ext)\n",
    "rho_col = rho0 * (1.0 - f_ext) * a**(-n_col)\n",
    "rho_tot = rho_ext + rho_col\n",
    "\n",
    "plt.figure(figsize=(7,5))\n",
    "plt.plot(z, rho_ext/ rho0, label=\"ρ_ext (estendido, ~DE)\")\n",
    "plt.plot(z, rho_col/ rho0, label=\"ρ_col (colapsado, ~DM)\", linestyle=\"--\")\n",
    "plt.plot(z, rho_tot/ rho0, label=\"ρ_sup total\", linestyle=\":\")\n",
    "plt.yscale(\"log\"); plt.xlabel(\"z\"); plt.ylabel(\"ρ/ρ0\")\n",
    "plt.title(\"Evolução de densidades (parametrização mínima)\")\n",
    "plt.legend(); plt.grid(True, which=\"both\", ls=\":\"); plt.show()"
   ]
  }
 ],
 "metadata": {},
 "nbformat": 4,
 "nbformat_minor": 5
}
