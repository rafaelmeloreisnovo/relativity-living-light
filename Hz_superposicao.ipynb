{
 "cells": [
  {
   "cell_type": "markdown",
   "id": "86ff1e45",
   "metadata": {},
   "source": [
    "# H(z) com termo de **ρ_superposição**\n",
    "\n",
    "Este notebook compara o modelo **ΛCDM** com um modelo estendido que inclui um termo adicional de densidade\n",
    "associado à **superposição fotônica**:\n",
    "\n",
    "\\[ H(z)^2 = H_0^2 \\left[ \\Omega_m (1+z)^3 + \\Omega_r (1+z)^4 + \\Omega_\\Lambda + \\Omega_{\\text{sup}} a^{-n} \\right] \\]\n",
    "\n",
    "Ajuste `Omega_sup` e `n_sup` abaixo para explorar diferentes cenários."
   ]
  },
  {
   "cell_type": "code",
   "execution_count": null,
   "id": "e312dfed",
   "metadata": {},
   "outputs": [],
   "source": [
    "import numpy as np\n",
    "import matplotlib.pyplot as plt\n",
    "\n",
    "# Parâmetros básicos (ajuste aqui)\n",
    "H0 = 70.0       # km/s/Mpc\n",
    "Omega_m = 0.3\n",
    "Omega_r = 1e-4\n",
    "Omega_L = 0.7\n",
    "\n",
    "# Termo de superposição fotônica (ajuste aqui)\n",
    "Omega_sup = 0.1   # fração de densidade hoje\n",
    "n_sup = 2.0       # evolução: rho_sup ~ a^{-n_sup}\n",
    "\n",
    "# Grade de redshift\n",
    "z = np.linspace(0, 3, 300)\n",
    "a = 1.0 / (1.0 + z)\n",
    "\n",
    "# Modelos\n",
    "Hz_LCDM = H0 * np.sqrt(Omega_m * (1+z)**3 + Omega_r * (1+z)**4 + Omega_L)\n",
    "Hz_sup  = H0 * np.sqrt(Omega_m * (1+z)**3 + Omega_r * (1+z)**4 + Omega_L + Omega_sup * a**(-n_sup))\n",
    "\n",
    "# Plot\n",
    "plt.figure(figsize=(7,5))\n",
    "plt.plot(z, Hz_LCDM, label=\"ΛCDM (padrão)\")\n",
    "plt.plot(z, Hz_sup, label=f\"Com ρ_superposição (Ω_sup={Omega_sup}, n={n_sup})\", linestyle=\"--\")\n",
    "plt.xlabel(\"Redshift z\")\n",
    "plt.ylabel(\"H(z) [km/s/Mpc]\")\n",
    "plt.title(\"Comparação H(z): ΛCDM vs. Modelo com Superposição Fotônica\")\n",
    "plt.legend()\n",
    "plt.grid(True)\n",
    "plt.show()"
   ]
  }
 ],
 "metadata": {},
 "nbformat": 4,
 "nbformat_minor": 5
}
