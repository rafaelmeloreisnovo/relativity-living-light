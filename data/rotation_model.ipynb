{
  "cells": [
    {
      "cell_type": "markdown",
      "metadata": {},
      "source": [
        "# Rotation Model - Curvas de Rota\u00e7\u00e3o Gal\u00e1ctica\n",
        "\n",
        "## Prop\u00f3sito Cient\u00edfico\n",
        "Modela curvas de rota\u00e7\u00e3o de gal\u00e1xias espirais incluindo contribui\u00e7\u00f5es de\n",
        "mat\u00e9ria bari\u00f4nica e o termo de superposi\u00e7\u00e3o fot\u00f4nica colapsada como halo escuro.\n",
        "\n",
        "## Interpreta\u00e7\u00e3o Simbi\u00f3tica\n",
        "As curvas de rota\u00e7\u00e3o planas revelam a presen\u00e7a da 'luz materializada' \u2014\n",
        "f\u00f3tons em superposi\u00e7\u00e3o colapsada que agem gravitacionalmente sem emitir radia\u00e7\u00e3o.\n",
        "Este \u00e9 o verbo silencioso que sustenta as gal\u00e1xias em rota\u00e7\u00e3o.\n",
        "\n",
        "## F\u00edsica Implementada\n",
        "- Disco bari\u00f4nico: distribui\u00e7\u00e3o exponencial\n",
        "- Halo escuro: perfil NFW ou isot\u00e9rmico modificado\n",
        "- Contribui\u00e7\u00e3o da superposi\u00e7\u00e3o: fra\u00e7\u00e3o (1-f) materializada\n",
        "\n",
        "## Compara\u00e7\u00e3o\n",
        "Ajusta dados do cat\u00e1logo SPARC (Spitzer Photometry and Accurate Rotation Curves)\n",
        "e compara com perfis te\u00f3ricos de mat\u00e9ria escura convencional.\n"
      ]
    },
    {
      "cell_type": "markdown",
      "id": "69f9541a",
      "metadata": {},
      "source": [
        "# Curvas de rota\u00e7\u00e3o (toy) com halo pseudo-isot\u00e9rmico\n",
        "\n",
        "Usamos um disco+bojo bari\u00f4nico simplificado e um halo **pseudo-isot\u00e9rmico**\n",
        "\\(\\rho = \\rho_0/[1+(r/r_c)^2]\\) como *proxy* para \\(\\rho_{\\text{col}}\\)."
      ]
    },
    {
      "cell_type": "code",
      "execution_count": null,
      "id": "4693fa76",
      "metadata": {},
      "outputs": [],
      "source": [
        "import numpy as np\n",
        "import matplotlib.pyplot as plt\n",
        "\n",
        "G = 4.30091e-6  # kpc (km/s)^2 / Msun\n",
        "M_baryon = 5e10\n",
        "R_d = 3.0\n",
        "r = np.linspace(0.1, 40, 400)\n",
        "\n",
        "M_lum_r = M_baryon * (1 - (1 + r/R_d) * np.exp(-r/R_d))\n",
        "v_lum = np.sqrt(G * M_lum_r / r)\n",
        "\n",
        "rho0_pc = 0.015\n",
        "rho0_kpc = rho0_pc * (1000**3)\n",
        "rc = 5.0\n",
        "M_halo_r = 4 * np.pi * rho0_kpc * rc**3 * (r/rc - np.arctan(r/rc))\n",
        "v_halo = np.sqrt(G * M_halo_r / r)\n",
        "\n",
        "v_tot = np.sqrt(v_lum**2 + v_halo**2)\n",
        "\n",
        "plt.figure(figsize=(7,5))\n",
        "plt.plot(r, v_lum, label=\"Bari\u00f4nico (disco+bojo)\")\n",
        "plt.plot(r, v_halo, label=\"Colapsado ~ mat\u00e9ria escura (pseudo-isot\u00e9rmico)\", linestyle=\"--\")\n",
        "plt.plot(r, v_tot, label=\"Total (previsto)\")\n",
        "plt.xlabel(\"r [kpc]\"); plt.ylabel(\"v(r) [km/s]\")\n",
        "plt.title(\"Curvas de rota\u00e7\u00e3o: componente colapsado tipo DM\")\n",
        "plt.legend(); plt.grid(True); plt.show()"
      ]
    }
  ],
  "metadata": {},
  "nbformat": 4,
  "nbformat_minor": 5
}