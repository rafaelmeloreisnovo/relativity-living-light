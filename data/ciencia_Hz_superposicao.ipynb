{
  "cells": [
    {
      "cell_type": "markdown",
      "metadata": {},
      "source": [
        "# An\u00e1lise Cient\u00edfica - Relativity Living Light\n",
        "\n",
        "## Prop\u00f3sito Cient\u00edfico\n",
        "Notebook de an\u00e1lise complementar do modelo de superposi\u00e7\u00e3o fot\u00f4nica.\n",
        "\n",
        "## Interpreta\u00e7\u00e3o Simbi\u00f3tica\n",
        "Cada an\u00e1lise cient\u00edfica \u00e9 uma faceta do prisma que revela a natureza dual da luz c\u00f3smica.\n"
      ]
    },
    {
      "cell_type": "markdown",
      "id": "86ff1e45",
      "metadata": {},
      "source": [
        "# H(z) com termo de **\u03c1_superposi\u00e7\u00e3o**\n",
        "\n",
        "Este notebook compara o modelo **\u039bCDM** com um modelo estendido que inclui um termo adicional de densidade\n",
        "associado \u00e0 **superposi\u00e7\u00e3o fot\u00f4nica**:\n",
        "\n",
        "\\[ H(z)^2 = H_0^2 \\left[ \\Omega_m (1+z)^3 + \\Omega_r (1+z)^4 + \\Omega_\\Lambda + \\Omega_{\\text{sup}} a^{-n} \\right] \\]\n",
        "\n",
        "Ajuste `Omega_sup` e `n_sup` abaixo para explorar diferentes cen\u00e1rios."
      ]
    },
    {
      "cell_type": "code",
      "execution_count": null,
      "id": "e312dfed",
      "metadata": {},
      "outputs": [],
      "source": [
        "import numpy as np\n",
        "import matplotlib.pyplot as plt\n",
        "\n",
        "# Par\u00e2metros b\u00e1sicos (ajuste aqui)\n",
        "H0 = 70.0       # km/s/Mpc\n",
        "Omega_m = 0.3\n",
        "Omega_r = 1e-4\n",
        "Omega_L = 0.7\n",
        "\n",
        "# Termo de superposi\u00e7\u00e3o fot\u00f4nica (ajuste aqui)\n",
        "Omega_sup = 0.1   # fra\u00e7\u00e3o de densidade hoje\n",
        "n_sup = 2.0       # evolu\u00e7\u00e3o: rho_sup ~ a^{-n_sup}\n",
        "\n",
        "# Grade de redshift\n",
        "z = np.linspace(0, 3, 300)\n",
        "a = 1.0 / (1.0 + z)\n",
        "\n",
        "# Modelos\n",
        "Hz_LCDM = H0 * np.sqrt(Omega_m * (1+z)**3 + Omega_r * (1+z)**4 + Omega_L)\n",
        "Hz_sup  = H0 * np.sqrt(Omega_m * (1+z)**3 + Omega_r * (1+z)**4 + Omega_L + Omega_sup * a**(-n_sup))\n",
        "\n",
        "# Plot\n",
        "plt.figure(figsize=(7,5))\n",
        "plt.plot(z, Hz_LCDM, label=\"\u039bCDM (padr\u00e3o)\")\n",
        "plt.plot(z, Hz_sup, label=f\"Com \u03c1_superposi\u00e7\u00e3o (\u03a9_sup={Omega_sup}, n={n_sup})\", linestyle=\"--\")\n",
        "plt.xlabel(\"Redshift z\")\n",
        "plt.ylabel(\"H(z) [km/s/Mpc]\")\n",
        "plt.title(\"Compara\u00e7\u00e3o H(z): \u039bCDM vs. Modelo com Superposi\u00e7\u00e3o Fot\u00f4nica\")\n",
        "plt.legend()\n",
        "plt.grid(True)\n",
        "plt.show()"
      ]
    }
  ],
  "metadata": {},
  "nbformat": 4,
  "nbformat_minor": 5
}