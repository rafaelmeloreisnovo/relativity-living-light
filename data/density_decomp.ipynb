{
  "cells": [
    {
      "cell_type": "markdown",
      "metadata": {},
      "source": [
        "# Density Decomposition - Decomposi\u00e7\u00e3o de Densidade Energ\u00e9tica\n",
        "\n",
        "## Prop\u00f3sito Cient\u00edfico\n",
        "Este notebook decomp\u00f5e e visualiza as diferentes componentes de densidade energ\u00e9tica\n",
        "no universo em fun\u00e7\u00e3o do redshift z e do fator de escala a.\n",
        "\n",
        "## Interpreta\u00e7\u00e3o Simbi\u00f3tica\n",
        "Mostra como cada 'voz' c\u00f3smica (mat\u00e9ria, radia\u00e7\u00e3o, \u039b, superposi\u00e7\u00e3o) contribui\n",
        "para a sinfonia da expans\u00e3o. A superposi\u00e7\u00e3o fot\u00f4nica age como um 'verbo transitivo',\n",
        "mudando de natureza ao longo da hist\u00f3ria c\u00f3smica.\n",
        "\n",
        "## Componentes Analisadas\n",
        "- Mat\u00e9ria: \u03a9_m a\u207b\u00b3\n",
        "- Radia\u00e7\u00e3o: \u03a9_r a\u207b\u2074\n",
        "- Constante cosmol\u00f3gica: \u03a9_\u039b\n",
        "- Superposi\u00e7\u00e3o: \u03a9_s0[f(a) + (1-f)a\u207b\u00b3]\n",
        "- Campo magn\u00e9tico: \u03a9_B0 a\u207b\u2074 (opcional)\n",
        "- Plasma: \u03a9_P0 a\u207b\u2074 (opcional)\n"
      ]
    },
    {
      "cell_type": "markdown",
      "id": "f4be44d5",
      "metadata": {},
      "source": [
        "# Decomposi\u00e7\u00e3o de densidades: **\u03c1_ext** (DE-like) e **\u03c1_col** (DM-like)\n",
        "\n",
        "Parametriza\u00e7\u00e3o m\u00ednima:\n",
        "\\[\n",
        "\\rho_{\\text{sup}}(a) = \\rho_0 \\left[ f_{\\text{ext}}\\, a^{-n_{\\text{ext}}} + (1-f_{\\text{ext}})\\, a^{-n_{\\text{col}}} \\right]\n",
        "\\]\n",
        "com \\(n_{\\text{ext}}\\approx 0\\) e \\(n_{\\text{col}}\\approx 3\\) como caso base."
      ]
    },
    {
      "cell_type": "code",
      "execution_count": null,
      "id": "df14f07b",
      "metadata": {},
      "outputs": [],
      "source": [
        "import numpy as np\n",
        "import matplotlib.pyplot as plt\n",
        "\n",
        "z = np.linspace(0, 5, 400)\n",
        "a = 1.0 / (1.0 + z)\n",
        "rho0 = 1.0\n",
        "f_ext = 0.7\n",
        "n_ext = 0.0\n",
        "n_col = 3.0\n",
        "\n",
        "rho_ext = rho0 * f_ext * a**(-n_ext)\n",
        "rho_col = rho0 * (1.0 - f_ext) * a**(-n_col)\n",
        "rho_tot = rho_ext + rho_col\n",
        "\n",
        "plt.figure(figsize=(7,5))\n",
        "plt.plot(z, rho_ext/ rho0, label=\"\u03c1_ext (estendido, ~DE)\")\n",
        "plt.plot(z, rho_col/ rho0, label=\"\u03c1_col (colapsado, ~DM)\", linestyle=\"--\")\n",
        "plt.plot(z, rho_tot/ rho0, label=\"\u03c1_sup total\", linestyle=\":\")\n",
        "plt.yscale(\"log\"); plt.xlabel(\"z\"); plt.ylabel(\"\u03c1/\u03c10\")\n",
        "plt.title(\"Evolu\u00e7\u00e3o de densidades (parametriza\u00e7\u00e3o m\u00ednima)\")\n",
        "plt.legend(); plt.grid(True, which=\"both\", ls=\":\"); plt.show()"
      ]
    }
  ],
  "metadata": {},
  "nbformat": 4,
  "nbformat_minor": 5
}